{
 "cells": [
  {
   "cell_type": "code",
   "execution_count": 18,
   "metadata": {},
   "outputs": [],
   "source": [
    "import networkx as nx\n",
    "from community import community_louvain\n",
    "import numpy as np\n",
    "import matplotlib.pyplot as plt\n",
    "from random import randint,random\n",
    "import networkx as nx\n",
    "import matplotlib.pyplot as plt\n",
    "import torch\n",
    "import pickle\n",
    "import scipy.sparse as sparse\n",
    "#from visualization import RANDOM_STATE\n",
    "from spectral_cluster_model import  weights_to_graph,cluster_net,delete_isolated_ccs,weights_array_to_cluster_quality\n",
    "#from visualization import run_spectral_cluster,build_cluster_graph\n",
    "from collections import Counter\n",
    "from matplotlib.ticker import MaxNLocator"
   ]
  },
  {
   "cell_type": "code",
   "execution_count": null,
   "metadata": {},
   "outputs": [],
   "source": [
    "dataset=\"Cora\"\n",
    "file_constraited=dataset+\"Convergence\"\n",
    "\n",
    "for epoch in range(0,200,40):\n",
    "    weights_path0=dataset+\"Convergence/WeightChanges-Cora-GCN-param_512_2_0.99_0.2-monte_0-\"+str(epoch)+\".pt\"\n",
    "    weights_array0=torch.load(weights_path0)\n",
    "    weights_array=[]\n",
    "    for (i, weight) in enumerate(weights_array0):\n",
    "        weight = weight[:100,:100].cpu().detach().numpy()\n",
    "        weights_array.append(weight)\n",
    "    weights_path=dataset+\"Convergence/WeightChanges-Cora-GCN-param_512_2_0.99_0.2-monte_0-\"+str(epoch)+\".pckl\"  \n",
    "    pickle.dump(weights_array,open(weights_path,'wb'))\n",
    "    \n",
    "    \n",
    "    adj_mat=weights_to_graph(weights_array)\n",
    "    new_weight_array, new_adj_mat=delete_isolated_ccs(weights_array, adj_mat)\n",
    "   \n",
    "    num_clusters=6\n",
    "    assign_labels = 'kmeans'\n",
    "    eigen_solver = 'amg'\n",
    "    epsilon=1e-8\n",
    "    #[ncut_val, clustering_labels]=weights_array_to_cluster_quality(weights_array, adj_mat, num_clusters,eigen_solver, assign_labels, epsilon,is_testing=False)\n",
    "    #    weights_array_to_cluster_quality() \n",
    "    #[labels, metrics]=run_spectral_cluster(weights_path)\n",
    "    plot_eigenvalues(weights_array)\n",
    "    #labels=cluster_net(num_clusters, adj_mat, eigen_solver, assign_labels)\n",
    "    #build_cluster_graph(weights_path,labels,normalize_in_out=True)\n"
   ]
  },
  {
   "cell_type": "code",
   "execution_count": null,
   "metadata": {},
   "outputs": [],
   "source": [
    "def ToBlockMatrix(weights):\n",
    "    M,N=weights.shape\n",
    "    A11=np.zeros((M,M))\n",
    "    A12=weights\n",
    "    A21=np.transpose(weights)\n",
    "    A22=np.zeros((N,N))\n",
    "    BlockMatrix = np.block([[A11, A12], [A21, A22]])\n",
    "    return BlockMatrix\n"
   ]
  },
  {
   "cell_type": "code",
   "execution_count": null,
   "metadata": {},
   "outputs": [],
   "source": [
    "def Adjaencypartition(BlockMatrix):\n",
    "    BlockMatrix=np.maximum(BlockMatrix,0)\n",
    "    sp_mat = sparse.coo_matrix(np.abs(BlockMatrix))\n",
    "    G=nx.from_scipy_sparse_matrix(sp_mat)\n",
    "    print(G.edges())\n",
    "    partition=community.best_partition(G) \n",
    "    print(collections.Counter(partition.values()))\n",
    "    \"\"\"pos=community_layout(G,partition)\n",
    "    nx.draw(G, pos, node_color=list(partition.values()))\n",
    "    plt.show()\"\"\""
   ]
  },
  {
   "cell_type": "code",
   "execution_count": null,
   "metadata": {},
   "outputs": [],
   "source": [
    "weight=np.eye(3)\n",
    "BlockMatrix=ToBlockMatrix(weight)  \n",
    "BlockMatrix=np.maximum(BlockMatrix,0)\n",
    "sp_mat = sparse.coo_matrix(np.abs(BlockMatrix))\n",
    "G=nx.from_scipy_sparse_matrix(sp_mat)\n",
    "OldParition=community.best_partition(G) \n",
    "PartitionClassi=set(OldParition.values())\n",
    "print(\"PartitionClassi is\",PartitionClassi)\n",
    "for classi in OldParition.values():\n",
    "    nodeKnowledge=getKeyList(OldParition,classi)\n",
    "    print(\"node is:\",nodeKnowledge,classi)\n"
   ]
  },
  {
   "cell_type": "code",
   "execution_count": null,
   "metadata": {},
   "outputs": [],
   "source": []
  },
  {
   "cell_type": "code",
   "execution_count": 2,
   "metadata": {},
   "outputs": [],
   "source": [
    "def UpdateWeights(net,OldParition):\n",
    "    state_dict=torch.load(\"../Net_state_dict\")\n",
    "    #state_dict = net.state_dict()\n",
    "    for i,weight in enumerate(state_dict):\n",
    "        name='layers.{}.weight'.format(i)\n",
    "        if i==0:\n",
    "            weight=state_dict[name]\n",
    "            CorrectWeights(Weight,OldParition)\n",
    "        else:\n",
    "            state_dict[name]=weights[i][:-1,:]\n",
    "        net.load_state_dict(state_dict) \n",
    "    return net  "
   ]
  },
  {
   "cell_type": "code",
   "execution_count": 3,
   "metadata": {},
   "outputs": [
    {
     "ename": "NameError",
     "evalue": "name 'OldParition' is not defined",
     "output_type": "error",
     "traceback": [
      "\u001b[0;31m---------------------------------------------------------------------------\u001b[0m",
      "\u001b[0;31mNameError\u001b[0m                                 Traceback (most recent call last)",
      "\u001b[0;32m<ipython-input-3-60f0d9c9f2b6>\u001b[0m in \u001b[0;36m<module>\u001b[0;34m\u001b[0m\n\u001b[0;32m----> 1\u001b[0;31m \u001b[0mUpdateWeights\u001b[0m\u001b[0;34m(\u001b[0m\u001b[0;36m1\u001b[0m\u001b[0;34m,\u001b[0m\u001b[0mOldParition\u001b[0m\u001b[0;34m)\u001b[0m\u001b[0;34m\u001b[0m\u001b[0;34m\u001b[0m\u001b[0m\n\u001b[0m",
      "\u001b[0;31mNameError\u001b[0m: name 'OldParition' is not defined"
     ]
    }
   ],
   "source": [
    "UpdateWeights(1,OldParition)"
   ]
  },
  {
   "cell_type": "code",
   "execution_count": 4,
   "metadata": {},
   "outputs": [
    {
     "ename": "NameError",
     "evalue": "name 'partiontmp' is not defined",
     "output_type": "error",
     "traceback": [
      "\u001b[0;31m---------------------------------------------------------------------------\u001b[0m",
      "\u001b[0;31mNameError\u001b[0m                                 Traceback (most recent call last)",
      "\u001b[0;32m<ipython-input-4-0bf6a24bbcc0>\u001b[0m in \u001b[0;36m<module>\u001b[0;34m\u001b[0m\n\u001b[0;32m----> 1\u001b[0;31m \u001b[0mpartiontmp\u001b[0m\u001b[0;34m\u001b[0m\u001b[0;34m\u001b[0m\u001b[0m\n\u001b[0m",
      "\u001b[0;31mNameError\u001b[0m: name 'partiontmp' is not defined"
     ]
    }
   ],
   "source": [
    "partiontmp"
   ]
  },
  {
   "cell_type": "code",
   "execution_count": 5,
   "metadata": {},
   "outputs": [],
   "source": [
    "def community_layout(g, partition):\n",
    "    \"\"\"\n",
    "    Compute the layout for a modular graph.\n",
    "\n",
    "\n",
    "    Arguments:\n",
    "    ----------\n",
    "    g -- networkx.Graph or networkx.DiGraph instance\n",
    "        graph to plot\n",
    "\n",
    "    partition -- dict mapping int node -> int community\n",
    "        graph partitions\n",
    "\n",
    "\n",
    "    Returns:\n",
    "    --------\n",
    "    pos -- dict mapping int node -> (float x, float y)\n",
    "        node positions\n",
    "\n",
    "    \"\"\"\n",
    "\n",
    "    pos_communities = _position_communities(g, partition, scale=3.)\n",
    "\n",
    "    pos_nodes = _position_nodes(g, partition, scale=1.)\n",
    "\n",
    "    # combine positions\n",
    "    pos = dict()\n",
    "    for node in g.nodes():\n",
    "        pos[node] = pos_communities[node] + pos_nodes[node]\n",
    "\n",
    "    return pos\n",
    "\n",
    "def _position_communities(g, partition, **kwargs):\n",
    "\n",
    "    # create a weighted graph, in which each node corresponds to a community,\n",
    "    # and each edge weight to the number of edges between communities\n",
    "    between_community_edges = _find_between_community_edges(g, partition)\n",
    "\n",
    "    communities = set(partition.values())\n",
    "    hypergraph = nx.DiGraph()\n",
    "    hypergraph.add_nodes_from(communities)\n",
    "    for (ci, cj), edges in between_community_edges.items():\n",
    "        hypergraph.add_edge(ci, cj, weight=len(edges))\n",
    "\n",
    "    # find layout for communities\n",
    "    pos_communities = nx.spring_layout(hypergraph, **kwargs)\n",
    "\n",
    "    # set node positions to position of community\n",
    "    pos = dict()\n",
    "    for node, community in partition.items():\n",
    "        pos[node] = pos_communities[community]\n",
    "\n",
    "    return pos\n",
    "\n",
    "def _find_between_community_edges(g, partition):\n",
    "\n",
    "    edges = dict()\n",
    "\n",
    "    for (ni, nj) in g.edges():\n",
    "        ci = partition[ni]\n",
    "        cj = partition[nj]\n",
    "\n",
    "        if ci != cj:\n",
    "            try:\n",
    "                edges[(ci, cj)] += [(ni, nj)]\n",
    "            except KeyError:\n",
    "                edges[(ci, cj)] = [(ni, nj)]\n",
    "\n",
    "    return edges\n",
    "\n",
    "def _position_nodes(g, partition, **kwargs):\n",
    "    \"\"\"\n",
    "    Positions nodes within communities.\n",
    "    \"\"\"\n",
    "\n",
    "    communities = dict()\n",
    "    for node, community in partition.items():\n",
    "        try:\n",
    "            communities[community] += [node]\n",
    "        except KeyError:\n",
    "            communities[community] = [node]\n",
    "\n",
    "    pos = dict()\n",
    "    for ci, nodes in communities.items():\n",
    "        subgraph = g.subgraph(nodes)\n",
    "        pos_subgraph = nx.spring_layout(subgraph, **kwargs)\n",
    "        pos.update(pos_subgraph)\n",
    "\n",
    "    return pos\n",
    "\n",
    "def test():\n",
    "    # to install networkx 2.0 compatible version of python-louvain use:\n",
    "    # pip install -U git+https://github.com/taynaud/python-louvain.git@networkx2\n",
    "    from community import community_louvain\n",
    "\n",
    "    g = nx.karate_club_graph()\n",
    "    partition = community_louvain.best_partition(g)\n",
    "    pos = community_layout(g, partition)\n",
    "\n",
    "    nx.draw(g, pos, node_color=list(partition.values())); plt.show()\n",
    "    return"
   ]
  },
  {
   "cell_type": "code",
   "execution_count": 6,
   "metadata": {},
   "outputs": [
    {
     "name": "stdout",
     "output_type": "stream",
     "text": [
      "CoraConvergence/WeightChanges-Cora-GCN-param_512_2_0.99_0.2-monte_0-190.pt\n"
     ]
    },
    {
     "ename": "FileNotFoundError",
     "evalue": "[Errno 2] No such file or directory: 'CoraConvergence/WeightChanges-Cora-GCN-param_512_2_0.99_0.2-monte_0-190.pt'",
     "output_type": "error",
     "traceback": [
      "\u001b[0;31m---------------------------------------------------------------------------\u001b[0m",
      "\u001b[0;31mFileNotFoundError\u001b[0m                         Traceback (most recent call last)",
      "\u001b[0;32m<ipython-input-6-ac09028efe45>\u001b[0m in \u001b[0;36m<module>\u001b[0;34m\u001b[0m\n\u001b[1;32m      5\u001b[0m     \u001b[0mweights_path\u001b[0m\u001b[0;34m=\u001b[0m\u001b[0mdataset\u001b[0m\u001b[0;34m+\u001b[0m\u001b[0;34m\"Convergence/WeightChanges-Cora-GCN-param_512_2_0.99_0.2-monte_0-\"\u001b[0m\u001b[0;34m+\u001b[0m\u001b[0mstr\u001b[0m\u001b[0;34m(\u001b[0m\u001b[0mepoch\u001b[0m\u001b[0;34m)\u001b[0m\u001b[0;34m+\u001b[0m\u001b[0;34m\".pt\"\u001b[0m\u001b[0;34m\u001b[0m\u001b[0;34m\u001b[0m\u001b[0m\n\u001b[1;32m      6\u001b[0m     \u001b[0mprint\u001b[0m\u001b[0;34m(\u001b[0m\u001b[0mweights_path\u001b[0m\u001b[0;34m)\u001b[0m\u001b[0;34m\u001b[0m\u001b[0;34m\u001b[0m\u001b[0m\n\u001b[0;32m----> 7\u001b[0;31m     \u001b[0mweights_array\u001b[0m\u001b[0;34m=\u001b[0m\u001b[0mtorch\u001b[0m\u001b[0;34m.\u001b[0m\u001b[0mload\u001b[0m\u001b[0;34m(\u001b[0m\u001b[0mweights_path\u001b[0m\u001b[0;34m)\u001b[0m\u001b[0;34m\u001b[0m\u001b[0;34m\u001b[0m\u001b[0m\n\u001b[0m\u001b[1;32m      8\u001b[0m     \u001b[0;32mfor\u001b[0m \u001b[0mweights\u001b[0m \u001b[0;32min\u001b[0m \u001b[0mweights_array\u001b[0m\u001b[0;34m:\u001b[0m\u001b[0;34m\u001b[0m\u001b[0;34m\u001b[0m\u001b[0m\n\u001b[1;32m      9\u001b[0m         \u001b[0mBlockMatrix\u001b[0m\u001b[0;34m=\u001b[0m\u001b[0mToBlockMatrix\u001b[0m\u001b[0;34m(\u001b[0m\u001b[0mweights\u001b[0m\u001b[0;34m.\u001b[0m\u001b[0mcpu\u001b[0m\u001b[0;34m(\u001b[0m\u001b[0;34m)\u001b[0m\u001b[0;34m.\u001b[0m\u001b[0mdetach\u001b[0m\u001b[0;34m(\u001b[0m\u001b[0;34m)\u001b[0m\u001b[0;34m.\u001b[0m\u001b[0mnumpy\u001b[0m\u001b[0;34m(\u001b[0m\u001b[0;34m)\u001b[0m\u001b[0;34m)\u001b[0m\u001b[0;34m\u001b[0m\u001b[0;34m\u001b[0m\u001b[0m\n",
      "\u001b[0;32m/opt/conda/lib/python3.6/site-packages/torch/serialization.py\u001b[0m in \u001b[0;36mload\u001b[0;34m(f, map_location, pickle_module, **pickle_load_args)\u001b[0m\n\u001b[1;32m    581\u001b[0m         \u001b[0mpickle_load_args\u001b[0m\u001b[0;34m[\u001b[0m\u001b[0;34m'encoding'\u001b[0m\u001b[0;34m]\u001b[0m \u001b[0;34m=\u001b[0m \u001b[0;34m'utf-8'\u001b[0m\u001b[0;34m\u001b[0m\u001b[0;34m\u001b[0m\u001b[0m\n\u001b[1;32m    582\u001b[0m \u001b[0;34m\u001b[0m\u001b[0m\n\u001b[0;32m--> 583\u001b[0;31m     \u001b[0;32mwith\u001b[0m \u001b[0m_open_file_like\u001b[0m\u001b[0;34m(\u001b[0m\u001b[0mf\u001b[0m\u001b[0;34m,\u001b[0m \u001b[0;34m'rb'\u001b[0m\u001b[0;34m)\u001b[0m \u001b[0;32mas\u001b[0m \u001b[0mopened_file\u001b[0m\u001b[0;34m:\u001b[0m\u001b[0;34m\u001b[0m\u001b[0;34m\u001b[0m\u001b[0m\n\u001b[0m\u001b[1;32m    584\u001b[0m         \u001b[0;32mif\u001b[0m \u001b[0m_is_zipfile\u001b[0m\u001b[0;34m(\u001b[0m\u001b[0mopened_file\u001b[0m\u001b[0;34m)\u001b[0m\u001b[0;34m:\u001b[0m\u001b[0;34m\u001b[0m\u001b[0;34m\u001b[0m\u001b[0m\n\u001b[1;32m    585\u001b[0m             \u001b[0;32mwith\u001b[0m \u001b[0m_open_zipfile_reader\u001b[0m\u001b[0;34m(\u001b[0m\u001b[0mf\u001b[0m\u001b[0;34m)\u001b[0m \u001b[0;32mas\u001b[0m \u001b[0mopened_zipfile\u001b[0m\u001b[0;34m:\u001b[0m\u001b[0;34m\u001b[0m\u001b[0;34m\u001b[0m\u001b[0m\n",
      "\u001b[0;32m/opt/conda/lib/python3.6/site-packages/torch/serialization.py\u001b[0m in \u001b[0;36m_open_file_like\u001b[0;34m(name_or_buffer, mode)\u001b[0m\n\u001b[1;32m    231\u001b[0m \u001b[0;32mdef\u001b[0m \u001b[0m_open_file_like\u001b[0m\u001b[0;34m(\u001b[0m\u001b[0mname_or_buffer\u001b[0m\u001b[0;34m,\u001b[0m \u001b[0mmode\u001b[0m\u001b[0;34m)\u001b[0m\u001b[0;34m:\u001b[0m\u001b[0;34m\u001b[0m\u001b[0;34m\u001b[0m\u001b[0m\n\u001b[1;32m    232\u001b[0m     \u001b[0;32mif\u001b[0m \u001b[0m_is_path\u001b[0m\u001b[0;34m(\u001b[0m\u001b[0mname_or_buffer\u001b[0m\u001b[0;34m)\u001b[0m\u001b[0;34m:\u001b[0m\u001b[0;34m\u001b[0m\u001b[0;34m\u001b[0m\u001b[0m\n\u001b[0;32m--> 233\u001b[0;31m         \u001b[0;32mreturn\u001b[0m \u001b[0m_open_file\u001b[0m\u001b[0;34m(\u001b[0m\u001b[0mname_or_buffer\u001b[0m\u001b[0;34m,\u001b[0m \u001b[0mmode\u001b[0m\u001b[0;34m)\u001b[0m\u001b[0;34m\u001b[0m\u001b[0;34m\u001b[0m\u001b[0m\n\u001b[0m\u001b[1;32m    234\u001b[0m     \u001b[0;32melse\u001b[0m\u001b[0;34m:\u001b[0m\u001b[0;34m\u001b[0m\u001b[0;34m\u001b[0m\u001b[0m\n\u001b[1;32m    235\u001b[0m         \u001b[0;32mif\u001b[0m \u001b[0;34m'w'\u001b[0m \u001b[0;32min\u001b[0m \u001b[0mmode\u001b[0m\u001b[0;34m:\u001b[0m\u001b[0;34m\u001b[0m\u001b[0;34m\u001b[0m\u001b[0m\n",
      "\u001b[0;32m/opt/conda/lib/python3.6/site-packages/torch/serialization.py\u001b[0m in \u001b[0;36m__init__\u001b[0;34m(self, name, mode)\u001b[0m\n\u001b[1;32m    212\u001b[0m \u001b[0;32mclass\u001b[0m \u001b[0m_open_file\u001b[0m\u001b[0;34m(\u001b[0m\u001b[0m_opener\u001b[0m\u001b[0;34m)\u001b[0m\u001b[0;34m:\u001b[0m\u001b[0;34m\u001b[0m\u001b[0;34m\u001b[0m\u001b[0m\n\u001b[1;32m    213\u001b[0m     \u001b[0;32mdef\u001b[0m \u001b[0m__init__\u001b[0m\u001b[0;34m(\u001b[0m\u001b[0mself\u001b[0m\u001b[0;34m,\u001b[0m \u001b[0mname\u001b[0m\u001b[0;34m,\u001b[0m \u001b[0mmode\u001b[0m\u001b[0;34m)\u001b[0m\u001b[0;34m:\u001b[0m\u001b[0;34m\u001b[0m\u001b[0;34m\u001b[0m\u001b[0m\n\u001b[0;32m--> 214\u001b[0;31m         \u001b[0msuper\u001b[0m\u001b[0;34m(\u001b[0m\u001b[0m_open_file\u001b[0m\u001b[0;34m,\u001b[0m \u001b[0mself\u001b[0m\u001b[0;34m)\u001b[0m\u001b[0;34m.\u001b[0m\u001b[0m__init__\u001b[0m\u001b[0;34m(\u001b[0m\u001b[0mopen\u001b[0m\u001b[0;34m(\u001b[0m\u001b[0mname\u001b[0m\u001b[0;34m,\u001b[0m \u001b[0mmode\u001b[0m\u001b[0;34m)\u001b[0m\u001b[0;34m)\u001b[0m\u001b[0;34m\u001b[0m\u001b[0;34m\u001b[0m\u001b[0m\n\u001b[0m\u001b[1;32m    215\u001b[0m \u001b[0;34m\u001b[0m\u001b[0m\n\u001b[1;32m    216\u001b[0m     \u001b[0;32mdef\u001b[0m \u001b[0m__exit__\u001b[0m\u001b[0;34m(\u001b[0m\u001b[0mself\u001b[0m\u001b[0;34m,\u001b[0m \u001b[0;34m*\u001b[0m\u001b[0margs\u001b[0m\u001b[0;34m)\u001b[0m\u001b[0;34m:\u001b[0m\u001b[0;34m\u001b[0m\u001b[0;34m\u001b[0m\u001b[0m\n",
      "\u001b[0;31mFileNotFoundError\u001b[0m: [Errno 2] No such file or directory: 'CoraConvergence/WeightChanges-Cora-GCN-param_512_2_0.99_0.2-monte_0-190.pt'"
     ]
    }
   ],
   "source": [
    "dataset=\"Cora\"\n",
    "file_constraited=dataset+\"Convergence\"\n",
    "\n",
    "for epoch in range(190,220,40):\n",
    "    weights_path=dataset+\"Convergence/WeightChanges-Cora-GCN-param_512_2_0.99_0.2-monte_0-\"+str(epoch)+\".pt\"\n",
    "    print(weights_path)\n",
    "    weights_array=torch.load(weights_path)\n",
    "    for weights in weights_array:\n",
    "        BlockMatrix=ToBlockMatrix(weights.cpu().detach().numpy())\n",
    "        Adjaencypartition(BlockMatrix)"
   ]
  },
  {
   "cell_type": "code",
   "execution_count": 7,
   "metadata": {},
   "outputs": [],
   "source": [
    "def GrowConnectivity(G):\n",
    "    algebraic_connectivity=[]\n",
    "    for k in range(2):\n",
    "        algebraic_connectivity.append([])\n",
    "        for i in range(N):\n",
    "            G.add_edge(randint(0,N-1),randint(0,N-1))\n",
    "            algebraic_connectivity[k].append(nx.linalg.algebraic_connectivity(G))"
   ]
  },
  {
   "cell_type": "code",
   "execution_count": 8,
   "metadata": {},
   "outputs": [
    {
     "ename": "SyntaxError",
     "evalue": "invalid syntax (<ipython-input-8-41b2ea38d002>, line 1)",
     "output_type": "error",
     "traceback": [
      "\u001b[0;36m  File \u001b[0;32m\"<ipython-input-8-41b2ea38d002>\"\u001b[0;36m, line \u001b[0;32m1\u001b[0m\n\u001b[0;31m    CoraConvergence/WeightChanges-Cora-GCN-param_512_2_0.99_0.2-monte_0-0.pt\u001b[0m\n\u001b[0m                                                            ^\u001b[0m\n\u001b[0;31mSyntaxError\u001b[0m\u001b[0;31m:\u001b[0m invalid syntax\n"
     ]
    }
   ],
   "source": [
    "CoraConvergence/WeightChanges-Cora-GCN-param_512_2_0.99_0.2-monte_0-0.pt\n",
    "Counter({2: 466, 3: 449, 1: 433, 5: 386, 4: 358, 6: 280, 0: 240, 7: 157, 8: 79})\n",
    "Counter({8: 361, 5: 334, 6: 333, 1: 318, 4: 296, 7: 258, 0: 237, 10: 232, 9: 163, 2: 148, 3: 138})\n",
    "CoraConvergence/WeightChanges-Cora-GCN-param_512_2_0.99_0.2-monte_0-40.pt\n",
    "Counter({0: 427, 1: 390, 8: 375, 2: 364, 4: 328, 5: 253, 3: 249, 6: 241, 7: 221})\n",
    "Counter({3: 443, 1: 349, 2: 340, 5: 332, 8: 274, 4: 267, 0: 255, 9: 229, 7: 219, 6: 110})\n",
    "CoraConvergence/WeightChanges-Cora-GCN-param_512_2_0.99_0.2-monte_0-80.pt\n",
    "Counter({6: 434, 5: 432, 1: 399, 4: 385, 2: 308, 8: 253, 3: 240, 7: 229, 0: 168})\n",
    "Counter({3: 445, 0: 428, 6: 426, 2: 355, 4: 336, 5: 305, 7: 285, 1: 238})\n",
    "CoraConvergence/WeightChanges-Cora-GCN-param_512_2_0.99_0.2-monte_0-120.pt\n",
    "Counter({1: 425, 8: 393, 3: 381, 4: 349, 2: 285, 0: 269, 9: 220, 6: 219, 5: 210, 7: 97})\n",
    "Counter({0: 490, 1: 465, 2: 395, 6: 374, 4: 369, 5: 297, 3: 269, 7: 102, 8: 57})\n",
    "CoraConvergence/WeightChanges-Cora-GCN-param_512_2_0.99_0.2-monte_0-160.pt\n",
    "Counter({2: 408, 4: 377, 0: 353, 5: 347, 3: 344, 7: 325, 1: 263, 6: 257, 8: 174})\n",
    "Counter({6: 421, 4: 385, 0: 375, 5: 338, 8: 319, 3: 317, 1: 253, 2: 218, 7: 192})"
   ]
  },
  {
   "cell_type": "code",
   "execution_count": 9,
   "metadata": {},
   "outputs": [
    {
     "ename": "NameError",
     "evalue": "name 'partition' is not defined",
     "output_type": "error",
     "traceback": [
      "\u001b[0;31m---------------------------------------------------------------------------\u001b[0m",
      "\u001b[0;31mNameError\u001b[0m                                 Traceback (most recent call last)",
      "\u001b[0;32m<ipython-input-9-5106191ca9c8>\u001b[0m in \u001b[0;36m<module>\u001b[0;34m\u001b[0m\n\u001b[1;32m      1\u001b[0m \u001b[0msave_file\u001b[0m\u001b[0;34m=\u001b[0m \u001b[0mopen\u001b[0m\u001b[0;34m(\u001b[0m\u001b[0;34m\"partitionResults.pkl\"\u001b[0m\u001b[0;34m,\u001b[0m\u001b[0;34m\"wb\"\u001b[0m\u001b[0;34m)\u001b[0m\u001b[0;34m\u001b[0m\u001b[0;34m\u001b[0m\u001b[0m\n\u001b[0;32m----> 2\u001b[0;31m \u001b[0mpickle\u001b[0m\u001b[0;34m.\u001b[0m\u001b[0mdump\u001b[0m\u001b[0;34m(\u001b[0m\u001b[0mpartition\u001b[0m\u001b[0;34m,\u001b[0m\u001b[0msave_file\u001b[0m \u001b[0;34m)\u001b[0m\u001b[0;34m\u001b[0m\u001b[0;34m\u001b[0m\u001b[0m\n\u001b[0m\u001b[1;32m      3\u001b[0m \u001b[0msave_file\u001b[0m\u001b[0;34m.\u001b[0m\u001b[0mclose\u001b[0m\u001b[0;34m(\u001b[0m\u001b[0;34m)\u001b[0m\u001b[0;34m\u001b[0m\u001b[0;34m\u001b[0m\u001b[0m\n\u001b[1;32m      4\u001b[0m \u001b[0;34m\u001b[0m\u001b[0m\n\u001b[1;32m      5\u001b[0m \u001b[0ma_file\u001b[0m\u001b[0;34m=\u001b[0m\u001b[0mopen\u001b[0m\u001b[0;34m(\u001b[0m\u001b[0;34m\"../partitionResults.pkl\"\u001b[0m\u001b[0;34m,\u001b[0m\u001b[0;34m'rb'\u001b[0m\u001b[0;34m)\u001b[0m\u001b[0;34m\u001b[0m\u001b[0;34m\u001b[0m\u001b[0m\n",
      "\u001b[0;31mNameError\u001b[0m: name 'partition' is not defined"
     ]
    }
   ],
   "source": [
    "save_file= open(\"partitionResults.pkl\",\"wb\")\n",
    "pickle.dump(partition,save_file )\n",
    "save_file.close()\n",
    "\n",
    "a_file=open(\"../partitionResults.pkl\",'rb')\n",
    "OldParition=pickle.load(a_file)"
   ]
  },
  {
   "cell_type": "code",
   "execution_count": 10,
   "metadata": {},
   "outputs": [],
   "source": [
    "def getKeyList(OldParition,classi):\n",
    "    list_nodes=[]\n",
    "    for node in OldParition.keys():\n",
    "        if OldParition[node]==classi:\n",
    "            list_nodes.append(node)\n",
    "    return list_nodes\n",
    "            "
   ]
  },
  {
   "cell_type": "code",
   "execution_count": null,
   "metadata": {},
   "outputs": [],
   "source": []
  },
  {
   "cell_type": "code",
   "execution_count": 11,
   "metadata": {},
   "outputs": [
    {
     "name": "stdout",
     "output_type": "stream",
     "text": [
      "[[-0.6839234   0.44668148  0.54113615 ...  0.43375706 -1.37538939\n",
      "   0.47379852]\n",
      " [ 0.58644499 -0.07685146  0.53444651 ...  0.62825753 -0.05665742\n",
      "  -0.63545267]\n",
      " [-0.23626331 -0.97998268  1.74209448 ...  0.3091554  -0.11039958\n",
      "   0.53450629]\n",
      " ...\n",
      " [ 0.55398477  0.62830467  0.7326363  ... -0.14337132 -1.13995021\n",
      "  -1.01853061]\n",
      " [ 1.30696428 -0.57194638  0.96795068 ... -0.28428886 -0.37421041\n",
      "  -0.98634862]\n",
      " [ 1.47076963  0.87406316 -0.15724858 ... -1.48629769  0.77604141\n",
      "   0.0202894 ]]\n"
     ]
    }
   ],
   "source": [
    "import numpy as np\n",
    "Weight=np.random.randn(100,100)\n",
    "print(Weight)"
   ]
  },
  {
   "cell_type": "code",
   "execution_count": 12,
   "metadata": {},
   "outputs": [],
   "source": [
    "def PositiveEdgesInfo(Weight):   \n",
    "    PositiveEdges=[]\n",
    "    for i in range(Weight.shape[0]):\n",
    "        for j in range(Weight.shape[1]): \n",
    "            if Weight[i,j]>0:\n",
    "                PositiveEdges.append((i,j))\n",
    "    return PositiveEdges\n",
    "                "
   ]
  },
  {
   "cell_type": "code",
   "execution_count": 13,
   "metadata": {},
   "outputs": [],
   "source": [
    "def CorrectWeights(Weight,OldParition,PositiveEdges):\n",
    "    PartitionClassi=set(OldParition.values())\n",
    "    for classi in PartitionClassi:\n",
    "        nodeKnowledge=get_key(OldParition,classi)\n",
    "        for i in range(Weight.shape[0]):\n",
    "            for j in range(Weight.shape[1]):            \n",
    "                if (Weight[i,j]<0) and (i in nodeKnowledge) and (j+Weight[1] in nodeKnowledge):\n",
    "                    Weight[i,j]=0.001\n",
    "    return Weight"
   ]
  },
  {
   "cell_type": "code",
   "execution_count": 14,
   "metadata": {},
   "outputs": [
    {
     "ename": "NameError",
     "evalue": "name 'OldParition' is not defined",
     "output_type": "error",
     "traceback": [
      "\u001b[0;31m---------------------------------------------------------------------------\u001b[0m",
      "\u001b[0;31mNameError\u001b[0m                                 Traceback (most recent call last)",
      "\u001b[0;32m<ipython-input-14-39828a71cb51>\u001b[0m in \u001b[0;36m<module>\u001b[0;34m\u001b[0m\n\u001b[1;32m      1\u001b[0m \u001b[0mPositiveEdges\u001b[0m\u001b[0;34m=\u001b[0m\u001b[0mPositiveEdgesInfo\u001b[0m\u001b[0;34m(\u001b[0m\u001b[0mWeight\u001b[0m\u001b[0;34m)\u001b[0m\u001b[0;34m\u001b[0m\u001b[0;34m\u001b[0m\u001b[0m\n\u001b[0;32m----> 2\u001b[0;31m \u001b[0mWeight\u001b[0m\u001b[0;34m=\u001b[0m\u001b[0mCorrectWeights\u001b[0m\u001b[0;34m(\u001b[0m\u001b[0mWeight\u001b[0m\u001b[0;34m,\u001b[0m\u001b[0mOldParition\u001b[0m\u001b[0;34m,\u001b[0m\u001b[0mPositiveEdges\u001b[0m\u001b[0;34m)\u001b[0m\u001b[0;34m\u001b[0m\u001b[0;34m\u001b[0m\u001b[0m\n\u001b[0m",
      "\u001b[0;31mNameError\u001b[0m: name 'OldParition' is not defined"
     ]
    }
   ],
   "source": [
    "PositiveEdges=PositiveEdgesInfo(Weight)\n",
    "Weight=CorrectWeights(Weight,OldParition,PositiveEdges)\n"
   ]
  },
  {
   "cell_type": "code",
   "execution_count": 15,
   "metadata": {},
   "outputs": [
    {
     "ename": "NameError",
     "evalue": "name 'OldParition' is not defined",
     "output_type": "error",
     "traceback": [
      "\u001b[0;31m---------------------------------------------------------------------------\u001b[0m",
      "\u001b[0;31mNameError\u001b[0m                                 Traceback (most recent call last)",
      "\u001b[0;32m<ipython-input-15-2ef54d8b09ba>\u001b[0m in \u001b[0;36m<module>\u001b[0;34m\u001b[0m\n\u001b[0;32m----> 1\u001b[0;31m \u001b[0mPartitionClassi\u001b[0m\u001b[0;34m=\u001b[0m\u001b[0mset\u001b[0m\u001b[0;34m(\u001b[0m\u001b[0mOldParition\u001b[0m\u001b[0;34m.\u001b[0m\u001b[0mvalues\u001b[0m\u001b[0;34m(\u001b[0m\u001b[0;34m)\u001b[0m\u001b[0;34m)\u001b[0m\u001b[0;34m\u001b[0m\u001b[0;34m\u001b[0m\u001b[0m\n\u001b[0m\u001b[1;32m      2\u001b[0m \u001b[0;32mfor\u001b[0m \u001b[0mclassi\u001b[0m \u001b[0;32min\u001b[0m \u001b[0mPartitionClassi\u001b[0m\u001b[0;34m:\u001b[0m\u001b[0;34m\u001b[0m\u001b[0;34m\u001b[0m\u001b[0m\n\u001b[1;32m      3\u001b[0m     \u001b[0mprint\u001b[0m\u001b[0;34m(\u001b[0m\u001b[0mclassi\u001b[0m\u001b[0;34m)\u001b[0m\u001b[0;34m\u001b[0m\u001b[0;34m\u001b[0m\u001b[0m\n\u001b[1;32m      4\u001b[0m     \u001b[0mnodes\u001b[0m\u001b[0;34m=\u001b[0m\u001b[0mget_key\u001b[0m\u001b[0;34m(\u001b[0m\u001b[0mOldParition\u001b[0m\u001b[0;34m,\u001b[0m\u001b[0mclassi\u001b[0m\u001b[0;34m)\u001b[0m\u001b[0;34m\u001b[0m\u001b[0;34m\u001b[0m\u001b[0m\n",
      "\u001b[0;31mNameError\u001b[0m: name 'OldParition' is not defined"
     ]
    }
   ],
   "source": [
    "PartitionClassi=set(OldParition.values())\n",
    "for classi in PartitionClassi:\n",
    "    print(classi)\n",
    "    nodes=get_key(OldParition,classi)\n"
   ]
  },
  {
   "cell_type": "code",
   "execution_count": 16,
   "metadata": {},
   "outputs": [
    {
     "ename": "NameError",
     "evalue": "name 'OldParition' is not defined",
     "output_type": "error",
     "traceback": [
      "\u001b[0;31m---------------------------------------------------------------------------\u001b[0m",
      "\u001b[0;31mNameError\u001b[0m                                 Traceback (most recent call last)",
      "\u001b[0;32m<ipython-input-16-ab13a3ba6a15>\u001b[0m in \u001b[0;36m<module>\u001b[0;34m\u001b[0m\n\u001b[0;32m----> 1\u001b[0;31m \u001b[0mPartitionClassi\u001b[0m\u001b[0;34m=\u001b[0m\u001b[0mset\u001b[0m\u001b[0;34m(\u001b[0m\u001b[0mOldParition\u001b[0m\u001b[0;34m.\u001b[0m\u001b[0mvalues\u001b[0m\u001b[0;34m(\u001b[0m\u001b[0;34m)\u001b[0m\u001b[0;34m)\u001b[0m\u001b[0;34m\u001b[0m\u001b[0;34m\u001b[0m\u001b[0m\n\u001b[0m\u001b[1;32m      2\u001b[0m \u001b[0mlen\u001b[0m\u001b[0;34m(\u001b[0m\u001b[0maa\u001b[0m\u001b[0;34m)\u001b[0m\u001b[0;34m\u001b[0m\u001b[0;34m\u001b[0m\u001b[0m\n",
      "\u001b[0;31mNameError\u001b[0m: name 'OldParition' is not defined"
     ]
    }
   ],
   "source": [
    "PartitionClassi=set(OldParition.values())\n",
    "len(aa)"
   ]
  },
  {
   "cell_type": "code",
   "execution_count": 17,
   "metadata": {},
   "outputs": [
    {
     "ename": "NameError",
     "evalue": "name 'aa' is not defined",
     "output_type": "error",
     "traceback": [
      "\u001b[0;31m---------------------------------------------------------------------------\u001b[0m",
      "\u001b[0;31mNameError\u001b[0m                                 Traceback (most recent call last)",
      "\u001b[0;32m<ipython-input-17-9d3fae01bc6c>\u001b[0m in \u001b[0;36m<module>\u001b[0;34m\u001b[0m\n\u001b[0;32m----> 1\u001b[0;31m \u001b[0maa\u001b[0m\u001b[0;34m.\u001b[0m\u001b[0mremove\u001b[0m\u001b[0;34m(\u001b[0m\u001b[0mlen\u001b[0m\u001b[0;34m(\u001b[0m\u001b[0maa\u001b[0m\u001b[0;34m)\u001b[0m\u001b[0;34m-\u001b[0m\u001b[0;36m1\u001b[0m\u001b[0;34m)\u001b[0m\u001b[0;34m\u001b[0m\u001b[0;34m\u001b[0m\u001b[0m\n\u001b[0m\u001b[1;32m      2\u001b[0m \u001b[0maa\u001b[0m\u001b[0;34m\u001b[0m\u001b[0;34m\u001b[0m\u001b[0m\n",
      "\u001b[0;31mNameError\u001b[0m: name 'aa' is not defined"
     ]
    }
   ],
   "source": [
    "aa.remove(len(aa)-1)\n",
    "aa"
   ]
  },
  {
   "cell_type": "code",
   "execution_count": 93,
   "metadata": {},
   "outputs": [],
   "source": [
    "collections.Counter?"
   ]
  },
  {
   "cell_type": "code",
   "execution_count": 45,
   "metadata": {},
   "outputs": [
    {
     "name": "stdout",
     "output_type": "stream",
     "text": [
      "5\n",
      "4\n",
      "3\n",
      "2\n",
      "1\n"
     ]
    }
   ],
   "source": [
    "for _,valus in c.most_common():\n",
    "    print(valus)"
   ]
  },
  {
   "cell_type": "code",
   "execution_count": 53,
   "metadata": {},
   "outputs": [
    {
     "ename": "KeyError",
     "evalue": "'a'",
     "output_type": "error",
     "traceback": [
      "\u001b[0;31m---------------------------------------------------------------------------\u001b[0m",
      "\u001b[0;31mKeyError\u001b[0m                                  Traceback (most recent call last)",
      "\u001b[0;32m<ipython-input-53-d90f3fb31978>\u001b[0m in \u001b[0;36m<module>\u001b[0;34m\u001b[0m\n\u001b[1;32m      1\u001b[0m \u001b[0mcollectNodes\u001b[0m\u001b[0;34m=\u001b[0m\u001b[0;34m[\u001b[0m\u001b[0;34m]\u001b[0m\u001b[0;34m\u001b[0m\u001b[0;34m\u001b[0m\u001b[0m\n\u001b[1;32m      2\u001b[0m \u001b[0;32mfor\u001b[0m \u001b[0mitem\u001b[0m\u001b[0;34m,\u001b[0m\u001b[0mvalue\u001b[0m \u001b[0;32min\u001b[0m \u001b[0mc\u001b[0m\u001b[0;34m.\u001b[0m\u001b[0mmost_common\u001b[0m\u001b[0;34m(\u001b[0m\u001b[0;34m)\u001b[0m\u001b[0;34m:\u001b[0m\u001b[0;34m\u001b[0m\u001b[0;34m\u001b[0m\u001b[0m\n\u001b[0;32m----> 3\u001b[0;31m     \u001b[0mcollectNodes\u001b[0m\u001b[0;34m.\u001b[0m\u001b[0mappend\u001b[0m\u001b[0;34m(\u001b[0m\u001b[0mOldParition\u001b[0m\u001b[0;34m[\u001b[0m\u001b[0mitem\u001b[0m\u001b[0;34m]\u001b[0m\u001b[0;34m.\u001b[0m\u001b[0mvalues\u001b[0m\u001b[0;34m(\u001b[0m\u001b[0;34m)\u001b[0m\u001b[0;34m)\u001b[0m\u001b[0;34m\u001b[0m\u001b[0;34m\u001b[0m\u001b[0m\n\u001b[0m\u001b[1;32m      4\u001b[0m     \u001b[0mprint\u001b[0m\u001b[0;34m(\u001b[0m\u001b[0mcollectNodes\u001b[0m\u001b[0;34m)\u001b[0m\u001b[0;34m\u001b[0m\u001b[0;34m\u001b[0m\u001b[0m\n",
      "\u001b[0;31mKeyError\u001b[0m: 'a'"
     ]
    }
   ],
   "source": [
    "collectNodes=[]\n",
    "for item,value in c.most_common():\n",
    "    collectNodes.append(OldParition[item].values())\n",
    "    print(collectNodes)"
   ]
  },
  {
   "cell_type": "code",
   "execution_count": 65,
   "metadata": {},
   "outputs": [
    {
     "ename": "TypeError",
     "evalue": "'dict_values' object does not support indexing",
     "output_type": "error",
     "traceback": [
      "\u001b[0;31m---------------------------------------------------------------------------\u001b[0m",
      "\u001b[0;31mTypeError\u001b[0m                                 Traceback (most recent call last)",
      "\u001b[0;32m<ipython-input-65-8a592307749e>\u001b[0m in \u001b[0;36m<module>\u001b[0;34m\u001b[0m\n\u001b[0;32m----> 1\u001b[0;31m \u001b[0mOldParition\u001b[0m\u001b[0;34m.\u001b[0m\u001b[0mvalues\u001b[0m\u001b[0;34m(\u001b[0m\u001b[0;34m)\u001b[0m\u001b[0;34m[\u001b[0m\u001b[0;36m0\u001b[0m\u001b[0;34m]\u001b[0m\u001b[0;34m\u001b[0m\u001b[0;34m\u001b[0m\u001b[0m\n\u001b[0m",
      "\u001b[0;31mTypeError\u001b[0m: 'dict_values' object does not support indexing"
     ]
    }
   ],
   "source": [
    "OldParition.values()"
   ]
  },
  {
   "cell_type": "code",
   "execution_count": 68,
   "metadata": {},
   "outputs": [],
   "source": [
    " def get_key (dict, value):\n",
    "        return [k for k, v in dict.items() if v == value]"
   ]
  },
  {
   "cell_type": "code",
   "execution_count": 75,
   "metadata": {},
   "outputs": [
    {
     "name": "stdout",
     "output_type": "stream",
     "text": [
      "[0, 1, 2, 4, 11, 17, 19, 33, 37, 38, 40, 43, 45, 48, 50, 53, 54, 68, 69, 70, 73, 74, 76, 79, 86, 89, 90, 91, 92, 93, 94, 101, 103, 105, 108, 111, 112, 116, 124, 125, 126, 127, 128, 130, 132, 136, 137, 145, 149, 155, 157, 158, 167, 174, 178, 182, 183, 187, 190, 192, 195, 198, 202, 208, 211, 212, 214, 215, 217, 218, 221, 222, 224, 225, 226, 229, 231, 235, 241, 242, 247, 249, 250, 257, 260, 261, 262, 266, 268, 269, 270, 272, 277, 280, 281, 285, 289, 301, 302, 303, 305, 308, 309, 313, 315, 318, 326, 327, 328, 330, 333, 334, 336, 344, 352, 353, 360, 363, 364, 368, 371, 378, 379, 381, 383, 385, 388, 396, 397, 401, 405, 408, 412, 414, 416, 417, 418, 420, 422, 425, 431, 434, 435, 442, 444, 452, 453, 456, 458, 459, 470, 477, 481, 484, 495, 497, 501, 502, 505, 515, 518, 519, 522, 526, 527, 528, 529, 530, 531, 532, 533, 536, 538, 541, 548, 551, 555, 556, 558, 561, 575, 578, 580, 581, 583, 585, 587, 591, 593, 597, 612, 617, 618, 621, 622, 623, 625, 626, 627, 628, 632, 639, 644, 646, 647, 649, 650, 651, 655, 657, 658, 659, 661, 662, 663, 664, 665, 669, 673, 676, 680, 681, 687, 688, 689, 703, 704, 721, 726, 728, 731, 738, 739, 743, 744, 746, 748, 750, 752, 753, 756, 759, 766, 785, 791, 796, 801, 803, 808, 822, 823, 825, 829, 830, 839, 844, 845, 847, 848, 852, 854, 858, 866, 869, 872, 874, 876, 880, 887, 888, 890, 895, 898, 905, 906, 907, 908, 910, 911, 913, 918, 921, 925, 928, 929, 932, 937, 940, 946, 948, 949, 986, 992, 996, 998, 1006, 1008, 1011, 1015, 1020, 1028, 1031, 1035, 1036, 1037, 1040, 1066, 1067, 1069, 1081, 1082, 1087, 1088, 1090, 1091, 1093, 1097, 1099, 1102, 1107, 1114, 1116, 1122, 1123, 1128, 1135, 1147, 1154, 1158, 1160, 1168, 1170, 1190, 1192, 1195, 1198, 1200, 1201, 1205, 1208, 1209, 1210, 1211, 1212, 1215, 1218, 1220, 1221, 1224, 1225, 1232, 1238, 1248, 1252, 1255, 1256, 1257, 1264, 1266, 1275, 1277, 1284, 1295, 1312, 1319, 1325, 1327, 1335, 1336, 1337, 1344, 1346, 1347, 1353, 1360, 1362, 1367, 1369, 1372, 1376, 1377, 1378, 1381, 1383, 1387, 1390, 1391, 1392, 1393, 1394, 1395, 1406, 1407, 1415]\n",
      "[3, 7, 8, 12, 13, 14, 15, 18, 21, 22, 24, 25, 26, 27, 28, 29, 30, 32, 35, 39, 46, 47, 49, 51, 52, 55, 56, 57, 58, 59, 60, 62, 63, 65, 82, 84, 87, 88, 95, 96, 97, 98, 102, 104, 106, 107, 109, 114, 115, 117, 118, 120, 122, 135, 139, 140, 141, 142, 143, 146, 147, 148, 150, 152, 153, 154, 160, 164, 165, 169, 170, 172, 173, 176, 177, 181, 184, 188, 197, 199, 200, 203, 204, 207, 210, 213, 219, 220, 227, 228, 230, 232, 234, 237, 238, 240, 243, 251, 253, 254, 255, 263, 264, 267, 271, 273, 274, 278, 279, 282, 283, 284, 287, 288, 290, 291, 293, 295, 296, 298, 299, 304, 310, 311, 314, 320, 321, 322, 323, 335, 338, 340, 341, 349, 351, 355, 357, 362, 369, 372, 373, 374, 384, 386, 389, 390, 393, 395, 398, 399, 400, 404, 406, 407, 423, 432, 438, 441, 443, 445, 448, 451, 454, 455, 460, 461, 462, 463, 464, 465, 466, 469, 471, 472, 474, 478, 479, 486, 487, 488, 489, 491, 492, 493, 494, 498, 499, 503, 504, 509, 512, 520, 525, 535, 539, 540, 543, 546, 547, 549, 554, 557, 560, 565, 568, 569, 570, 572, 573, 576, 584, 586, 588, 592, 594, 595, 599, 600, 602, 603, 604, 606, 609, 611, 613, 614, 616, 624, 629, 630, 634, 635, 636, 637, 640, 641, 643, 648, 654, 656, 667, 670, 671, 679, 682, 683, 684, 685, 690, 692, 694, 695, 697, 698, 699, 700, 705, 708, 709, 710, 711, 713, 714, 715, 716, 718, 719, 720, 722, 723, 725, 727, 729, 732, 733, 734, 735, 737, 741, 745, 749, 751, 754, 757, 760, 764, 765, 768, 769, 770, 773, 775, 776, 778, 779, 780, 782, 783, 784, 786, 787, 788, 790, 793, 795, 800, 802, 805, 806, 809, 810, 812, 813, 814, 816, 817, 818, 820, 821, 827, 833, 836, 837, 841, 843, 855, 856, 859, 861, 862, 865, 867, 868, 873, 879, 882, 886, 889, 892, 894, 896, 897, 899, 900, 904, 912, 914, 916, 917, 920, 922, 923, 924, 926, 930, 931, 933, 936, 938, 939, 944, 952, 953, 958, 959, 961, 962, 963, 966, 967, 968, 969, 971, 978, 979, 981, 982, 984, 987, 988, 989, 990, 991, 994, 995, 999, 1001, 1007, 1009, 1012, 1013, 1016, 1017, 1018, 1019, 1024, 1026, 1027, 1029, 1030, 1034, 1041, 1042, 1043, 1044, 1045, 1047, 1051, 1053, 1054, 1062, 1068, 1073, 1077, 1078, 1079, 1083, 1084, 1086, 1095, 1096, 1098, 1103, 1106, 1108, 1109, 1110, 1111, 1118, 1120, 1121, 1126, 1127, 1130, 1131, 1132, 1134, 1136, 1141, 1143, 1144, 1145, 1146, 1148, 1149, 1155, 1157, 1163, 1166, 1167, 1171, 1174, 1175, 1178, 1181, 1182, 1183, 1184, 1186, 1187, 1189, 1193, 1194, 1199, 1202, 1204, 1207, 1213, 1217, 1219, 1222, 1227, 1228, 1234, 1235, 1236, 1237, 1240, 1243, 1244, 1246, 1249, 1250, 1253, 1260, 1261, 1262, 1263, 1269, 1272, 1278, 1283, 1288, 1289, 1290, 1292, 1294, 1299, 1300, 1302, 1306, 1307, 1308, 1309, 1313, 1318, 1320, 1321, 1322, 1323, 1329, 1331, 1334, 1339, 1340, 1341, 1345, 1348, 1350, 1352, 1355, 1357, 1361, 1363, 1364, 1366, 1370, 1375, 1379, 1384, 1386, 1389, 1401, 1408, 1409, 1410, 1411, 1412, 1414, 1417, 1419]\n",
      "[5, 6, 10, 20, 41, 42, 61, 64, 75, 78, 80, 83, 85, 110, 113, 119, 123, 133, 134, 144, 151, 156, 161, 168, 171, 179, 180, 186, 189, 191, 193, 216, 223, 239, 245, 246, 248, 252, 256, 258, 259, 275, 276, 294, 316, 319, 325, 329, 331, 342, 343, 346, 348, 350, 354, 356, 358, 359, 361, 365, 366, 367, 375, 376, 377, 380, 382, 387, 402, 403, 409, 413, 415, 419, 424, 426, 427, 428, 429, 433, 437, 439, 446, 449, 457, 467, 473, 475, 476, 480, 482, 485, 490, 496, 500, 506, 508, 510, 511, 513, 514, 516, 521, 523, 524, 534, 550, 552, 559, 563, 564, 566, 574, 577, 579, 582, 589, 590, 596, 598, 605, 607, 608, 610, 615, 620, 633, 645, 668, 672, 674, 675, 677, 686, 693, 696, 701, 706, 707, 724, 730, 736, 740, 742, 747, 755, 758, 761, 762, 763, 767, 774, 777, 781, 789, 792, 794, 797, 798, 799, 807, 815, 819, 831, 832, 838, 842, 846, 850, 860, 863, 864, 871, 877, 883, 884, 885, 891, 901, 902, 903, 919, 927, 935, 941, 942, 943, 947, 950, 951, 954, 955, 956, 960, 964, 973, 975, 977, 980, 993, 997, 1000, 1003, 1005, 1010, 1014, 1025, 1032, 1033, 1039, 1048, 1052, 1055, 1056, 1057, 1060, 1063, 1065, 1071, 1072, 1075, 1080, 1089, 1092, 1094, 1100, 1101, 1104, 1105, 1112, 1119, 1124, 1125, 1129, 1133, 1137, 1139, 1142, 1151, 1152, 1156, 1164, 1165, 1172, 1173, 1176, 1177, 1180, 1185, 1188, 1191, 1196, 1203, 1206, 1229, 1230, 1231, 1241, 1245, 1247, 1251, 1254, 1265, 1267, 1268, 1270, 1271, 1273, 1274, 1281, 1282, 1286, 1287, 1291, 1296, 1297, 1298, 1301, 1304, 1311, 1314, 1315, 1316, 1317, 1324, 1326, 1328, 1332, 1333, 1338, 1342, 1343, 1349, 1351, 1359, 1365, 1371, 1374, 1380, 1382, 1385, 1396, 1397, 1398, 1399, 1400, 1402, 1403, 1404, 1405, 1413, 1418, 1420]\n",
      "[9, 16, 23, 31, 34, 36, 44, 66, 67, 71, 72, 77, 81, 99, 100, 121, 129, 131, 138, 159, 162, 163, 166, 175, 185, 194, 196, 201, 205, 206, 209, 233, 236, 244, 265, 286, 292, 297, 300, 306, 307, 312, 317, 324, 332, 337, 339, 345, 347, 370, 391, 392, 394, 410, 411, 421, 430, 436, 440, 447, 450, 468, 483, 507, 517, 537, 542, 544, 545, 553, 562, 567, 571, 601, 619, 631, 638, 642, 652, 653, 660, 666, 678, 691, 702, 712, 717, 771, 772, 804, 811, 824, 826, 828, 834, 835, 840, 849, 851, 853, 857, 870, 875, 878, 881, 893, 909, 915, 934, 945, 957, 965, 970, 972, 974, 976, 983, 985, 1002, 1004, 1021, 1022, 1023, 1038, 1046, 1049, 1050, 1058, 1059, 1061, 1064, 1070, 1074, 1076, 1085, 1113, 1115, 1117, 1138, 1140, 1150, 1153, 1159, 1161, 1162, 1169, 1179, 1197, 1214, 1216, 1223, 1226, 1233, 1239, 1242, 1258, 1259, 1276, 1279, 1280, 1285, 1293, 1303, 1305, 1310, 1330, 1354, 1356, 1358, 1368, 1373, 1388, 1416]\n",
      "[]\n",
      "[]\n"
     ]
    }
   ],
   "source": [
    "for i in range(6):\n",
    "    nodes=get_key(OldParition,i)\n",
    "    print(nodes)"
   ]
  },
  {
   "cell_type": "code",
   "execution_count": null,
   "metadata": {},
   "outputs": [],
   "source": [
    "print(edges)"
   ]
  },
  {
   "cell_type": "code",
   "execution_count": null,
   "metadata": {},
   "outputs": [],
   "source": []
  }
 ],
 "metadata": {
  "kernelspec": {
   "display_name": "Python 3",
   "language": "python",
   "name": "python3"
  },
  "language_info": {
   "codemirror_mode": {
    "name": "ipython",
    "version": 3
   },
   "file_extension": ".py",
   "mimetype": "text/x-python",
   "name": "python",
   "nbconvert_exporter": "python",
   "pygments_lexer": "ipython3",
   "version": "3.6.9"
  }
 },
 "nbformat": 4,
 "nbformat_minor": 4
}
